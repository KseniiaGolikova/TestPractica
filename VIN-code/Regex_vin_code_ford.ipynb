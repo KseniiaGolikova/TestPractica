{
 "cells": [
  {
   "cell_type": "markdown",
   "id": "5f01bbdd",
   "metadata": {},
   "source": [
    "# Предсказание автомобиля марки Ford по VIN-коду с применением регулярных выражений"
   ]
  },
  {
   "cell_type": "markdown",
   "id": "230dd76c",
   "metadata": {},
   "source": [
    "VIN-код или Идентификационный номер транспортного средства - это уникальный код транспортного средства, состоящий из 17 знаков. В коде представлены сведения о производителе и характеристиках транспортного средства, а также о годе выпуска. Строение кода основано на стандартах ISO 3779-1983 и ISO 3780.Расшифровка каждой позиции, а также применяемые в данной работе обозначения приведены в Таблице 1."
   ]
  },
  {
   "cell_type": "markdown",
   "id": "6ea310e7",
   "metadata": {},
   "source": [
    "<p style=\"text-align: center;\">Северо-американские VIN-коды (Таблица 1)</p>\n",
    "\n",
    "|Позиции|Описание|Обозначение в проекте|\n",
    "|-|--------|---------|\n",
    "|1,2,3|Всемирный индекс изготовителя|WMI|\n",
    "|4|Тормозная система, Масса, Подушка безопасности|RESTRAINT|\n",
    "|5,6,7|Линия транспортных средств, Серия и Тип кузова|MODEL|\n",
    "|8|Код двигателя|ENGINE|\n",
    "|9|Контрольная цифра|CHECK|\n",
    "|10|Год выпуска|YEAR|\n",
    "|11|Завод-изготовитель|PLANT|\n",
    "|12-17|Порядковый номер|VIS|"
   ]
  },
  {
   "cell_type": "markdown",
   "id": "1789021c",
   "metadata": {},
   "source": [
    "На входе имеем текстовый файл с довольно «грязными» данными, содержащие только VIN-коды автомобилей марки FORD и стоимость этих автомобилей. Так же в файле присутствует лишний текст на русском языке. \n",
    "\n",
    "**Задача**: На основе этих данных необходимо построить модель предсказывающую стоимость автомобилей. "
   ]
  },
  {
   "cell_type": "markdown",
   "id": "67d37316",
   "metadata": {},
   "source": [
    "Поставленная задача предполагает предсказание цены, а это непрерывная переменная, поэтому в данной работе будем решать задачу регрессии. Наиболее распространенным способом измерения точности регрессионной модели является вычисление среднеквадратичной ошибки (RMSE), метрики, которая сообщает нам, насколько в среднем наши прогнозируемые значения отличаются от наших наблюдаемых значений в модели. Так же в данной работе для измерения точности прогнозирования модели будем оценивать среднюю абсолютную ошибку (MAPE) в процентах."
   ]
  },
  {
   "cell_type": "markdown",
   "id": "3a3fcd41",
   "metadata": {},
   "source": [
    "Сформулируем **план** решения данной задачи.\n",
    "\n",
    "1. С помощью регулярных выражений установить правила, для определения допустимых символов и цифр в VIN-коде\n",
    "2. С помощью регулярных выражений установить правила разделения VIN-кода в соответствии с позициями и их расшифровкой VIN-кода, приведенных в таблице 1.\n",
    "3. С помощью регулярных выражений провести поиск невалидных объектов в имеющихся данных и в случае наличия, удалить их\n",
    "4. Сформировать рабочий датафрейм, провести предобработку и исследовательский анализ данных.\n",
    "5. Подготовить данные для обучение модели (разделение на тренировочную и тестовую выборку).\n",
    "6. Подобрать оптимальную модель для обучения. Оптимальность модели будем оценивать с помощью метрик RMSE и MAPE.\n",
    "7. Оценить адекватность модели с помощью константной модели.\n",
    "8. Оценить важность признаков.\n",
    "9. Сформулировать выводы."
   ]
  },
  {
   "cell_type": "code",
   "execution_count": 1,
   "id": "42486bad",
   "metadata": {},
   "outputs": [],
   "source": [
    "import re\n",
    "\n",
    "import pandas as pd\n",
    "import numpy as np\n",
    "\n",
    "from matplotlib import pyplot as plt\n",
    "import seaborn as sns\n",
    "import xgboost\n",
    "from xgboost import XGBRegressor\n",
    "\n",
    "from sklearn.dummy import DummyRegressor\n",
    "from sklearn.model_selection import cross_validate\n",
    "from sklearn.model_selection import cross_val_score, GridSearchCV\n",
    "from sklearn.model_selection import train_test_split\n",
    "\n",
    "from sklearn.metrics import make_scorer, mean_absolute_percentage_error, mean_squared_error\n",
    "\n",
    "import shap"
   ]
  },
  {
   "cell_type": "markdown",
   "id": "ae0ae02c",
   "metadata": {},
   "source": [
    "### 1. Определение правил, для определения допустимых символов и цифр в VIN-коде"
   ]
  },
  {
   "cell_type": "code",
   "execution_count": 2,
   "id": "3b2635ed",
   "metadata": {},
   "outputs": [
    {
     "data": {
      "text/plain": [
       "'ABCDEFGHJKLMNPRSTUVWXYZ1234567890'"
      ]
     },
     "execution_count": 2,
     "metadata": {},
     "output_type": "execute_result"
    }
   ],
   "source": [
    "ALLOWED_CHARS = [chr(x) for x in range(ord('A'), ord('Z')+1) if chr(x) not in ('I', 'O', 'Q')]\n",
    "ALLOWED_NUMS = [str(x) for x in range(1,10)] + ['0']\n",
    "\n",
    "allowed = ''.join(ALLOWED_CHARS+ALLOWED_NUMS)\n",
    "allowed"
   ]
  },
  {
   "cell_type": "markdown",
   "id": "a5922d49",
   "metadata": {},
   "source": [
    "### 2. Определение правил разделения VIN-кода в соответствии с позициями и их расшифровкой, приведенных в таблице 1"
   ]
  },
  {
   "cell_type": "code",
   "execution_count": 3,
   "id": "21dc2eaf",
   "metadata": {},
   "outputs": [],
   "source": [
    "wmi = f'(?P<wmi>[{allowed}]{{3}})'             #позиции 1, 2, 3 (Таблица 1)\n",
    "restraint = f'(?P<restraint>[{allowed}])'      #позиция 4 (Таблица 1)\n",
    "model = f'(?P<model>[{allowed}]{{3}})'         #позиции 5, 6, 7 (Таблица 1)\n",
    "engine = f'(?P<engine>[{allowed}])'            #позиция 8 (Таблица 1)\n",
    "check = f'(?P<check>[{allowed}])'              #позиция 9 (Таблица 1)\n",
    "year = f'(?P<year>[{allowed}])'                #позиция 10 (Таблица 1)\n",
    "plant = f'(?P<plant>[{allowed}])'              #позиция 11 (Таблица 1)\n",
    "vis = f'(?P<vis>[{allowed}]{{3}}\\\\d{{3}})'     #позиции 12 - 17 (Таблица 1)\n",
    "\n",
    "VIN = f'{wmi}{restraint}{model}{engine}{check}{year}{plant}{vis}' #re-выражение для VIN-кода\n",
    "PRICE = r'(?P<price>\\d+)'                                         #re-выражение для цены"
   ]
  },
  {
   "cell_type": "markdown",
   "id": "1c45c8af",
   "metadata": {},
   "source": [
    "Откроем файл,представленный в виде текстового файла и выведем первые 250 значений"
   ]
  },
  {
   "cell_type": "code",
   "execution_count": 4,
   "id": "e6a7d528",
   "metadata": {},
   "outputs": [
    {
     "data": {
      "text/plain": [
       "'[2FMDK3JC4BBA41556:12500]мой[3FA6P0H75ER208976:14500]дядя [3FAHP08Z17R268380:1300][1FMCU0GX3DUC59421:15200]самых [1FAHP2E89DG119368:11600] верных[1FM5K8D82DGA16143:26400][1FTFW1CFXCFC23663:14000][2FMDK3JC6CBA90002:19500][1FTFW1CT8DKD06233:24400][1FMZ'"
      ]
     },
     "execution_count": 4,
     "metadata": {},
     "output_type": "execute_result"
    }
   ],
   "source": [
    "with open('vin_ford_train.txt', 'r', encoding='utf-8') as f:\n",
    "    content = f.read()\n",
    "    \n",
    "content[:250] #первые 250 значений"
   ]
  },
  {
   "cell_type": "markdown",
   "id": "6b9cf808",
   "metadata": {},
   "source": [
    "С помощью регулярных выражений приведем данные к формату **[VIN:PRICE]**"
   ]
  },
  {
   "cell_type": "code",
   "execution_count": 5,
   "id": "f72100d7",
   "metadata": {
    "scrolled": false
   },
   "outputs": [
    {
     "data": {
      "text/plain": [
       "re.compile(r'\\[(?P<wmi>[ABCDEFGHJKLMNPRSTUVWXYZ1234567890]{3})(?P<restraint>[ABCDEFGHJKLMNPRSTUVWXYZ1234567890])(?P<model>[ABCDEFGHJKLMNPRSTUVWXYZ1234567890]{3})(?P<engine>[ABCDEFGHJKLMNPRSTUVWXYZ1234567890])(?P<check>[ABCDEFGHJKLMNPRSTUVWXYZ1234567890])(?P<year>[ABCDEFGHJKLMNPRSTUVWXYZ1234567890])(?P<plant>[ABCDEFGHJKLMNPRSTUVWXYZ1234567890])(?P<vis>[ABCDEFGHJKLMNPRSTUVWXYZ1234567890]{3}\\d{3}):(?P<price>\\d+)\\]',\n",
       "           re.UNICODE)"
      ]
     },
     "execution_count": 5,
     "metadata": {},
     "output_type": "execute_result"
    }
   ],
   "source": [
    "data = re.compile(f'\\\\[{VIN}:{PRICE}\\\\]')\n",
    "data"
   ]
  },
  {
   "cell_type": "markdown",
   "id": "79048b66",
   "metadata": {},
   "source": [
    "Для того, чтобы в дальнейшем преобразовать данные в единый датафрейм сформируем словарь из обозначений (Таблица 1) и \"вытащим\" соответствующее ему значение"
   ]
  },
  {
   "cell_type": "code",
   "execution_count": 6,
   "id": "2d772579",
   "metadata": {},
   "outputs": [
    {
     "data": {
      "text/plain": [
       "[{'wmi': '2FM',\n",
       "  'restraint': 'D',\n",
       "  'model': 'K3J',\n",
       "  'engine': 'C',\n",
       "  'check': '4',\n",
       "  'year': 'B',\n",
       "  'plant': 'B',\n",
       "  'vis': 'A41556',\n",
       "  'price': '12500'}]"
      ]
     },
     "execution_count": 6,
     "metadata": {},
     "output_type": "execute_result"
    }
   ],
   "source": [
    "values = []\n",
    "for obj in data.finditer(content):\n",
    "    values.append(obj.groupdict())\n",
    "\n",
    "values[:1]"
   ]
  },
  {
   "cell_type": "code",
   "execution_count": 7,
   "id": "b0ac5f97",
   "metadata": {},
   "outputs": [
    {
     "data": {
      "text/plain": [
       "71884"
      ]
     },
     "execution_count": 7,
     "metadata": {},
     "output_type": "execute_result"
    }
   ],
   "source": [
    "len(values)"
   ]
  },
  {
   "cell_type": "markdown",
   "id": "1c2c1b74",
   "metadata": {},
   "source": [
    "**Вывод по разделу:** Такии образом получили, что входные данные имеют 71884 VIN-кода для автомобилей марки FORD "
   ]
  },
  {
   "cell_type": "markdown",
   "id": "2e43b2bb",
   "metadata": {},
   "source": [
    "### 3. Проведение поиска невалидных объектов в имеющихся данных"
   ]
  },
  {
   "cell_type": "code",
   "execution_count": 8,
   "id": "cd469602",
   "metadata": {},
   "outputs": [
    {
     "data": {
      "text/plain": [
       "[{'invalid_data': '[1FM5K8D83DGB91002:XXXX]'},\n",
       " {'invalid_data': '[1FM5K8D83DGB9100X:26600]'}]"
      ]
     },
     "execution_count": 8,
     "metadata": {},
     "output_type": "execute_result"
    }
   ],
   "source": [
    "valid_vin = r'(\\w{14}\\d{3})'               #валидный VIN-код\n",
    "valid_price = r'(\\d+)'                     #валидная цена\n",
    "\n",
    "invalid_vin = r'(?!\\w{14}\\d{3})(\\w+)'      #невалидный VIN-код\n",
    "invalid_prcie = r'(?!\\d+)(\\w+)'            #невалидная цена\n",
    "\n",
    "invalid_variance = [\n",
    "    f'\\\\[{invalid_vin}:{invalid_prcie}\\\\]',    #все возможные варианты валидных и невалидных\n",
    "    f'\\\\[{valid_vin}:{invalid_prcie}\\\\]',      #объектов\n",
    "    f'\\\\[{invalid_vin}:{valid_price}\\\\]',\n",
    "]\n",
    "\n",
    "#определим невалидный паттерн\n",
    "invalid_pattern = re.compile('(?P<invalid_data>' + '|'.join(invalid_variance) + ')')\n",
    "\n",
    "#сформируем словарь всех невалидных объектов в формате [VIN-код:Цена]\n",
    "invalid_values = []\n",
    "for obj in invalid_pattern.finditer(content):\n",
    "    invalid_values.append(obj.groupdict())\n",
    "    \n",
    "invalid_values"
   ]
  },
  {
   "cell_type": "markdown",
   "id": "63f924b9",
   "metadata": {},
   "source": [
    "**Вывод по разделу:** Таким образом получили, что в имеющихся данных присутсвуют два невалидных VIN-кода:\n",
    "\n",
    "- [1FM5K8D83DGB91002:XXXX] - так как вместо Цены имеем ХХХХ;\n",
    "- [1FM5K8D83DGB9100X:26600] - так как в конце VIN-кода имеем не цифровое значение"
   ]
  },
  {
   "cell_type": "markdown",
   "id": "647455fc",
   "metadata": {},
   "source": [
    "### 4. Формирование датафрейма и проведение предобработки данных"
   ]
  },
  {
   "cell_type": "code",
   "execution_count": 9,
   "id": "872cd9f9",
   "metadata": {},
   "outputs": [],
   "source": [
    "data_ford = pd.DataFrame(values)"
   ]
  },
  {
   "cell_type": "markdown",
   "id": "609e70ba",
   "metadata": {},
   "source": [
    "Напишем функцию для \"чекинга\" полученного датафрейма"
   ]
  },
  {
   "cell_type": "code",
   "execution_count": 10,
   "id": "c1377ca1",
   "metadata": {},
   "outputs": [],
   "source": [
    "def check(data):\n",
    "    display(data.head(10))\n",
    "    print('-----------------')\n",
    "    display(data.info())\n",
    "    print('-----------------')\n",
    "    display(data.describe())\n",
    "    print('-----------------')\n",
    "    print('Количество явных дубликатов:', data.duplicated().sum())\n",
    "    print('-----------------')\n",
    "    display(data.isna().sum())"
   ]
  },
  {
   "cell_type": "markdown",
   "id": "f808213b",
   "metadata": {},
   "source": [
    "Посмотрим на полученный датафрейм"
   ]
  },
  {
   "cell_type": "code",
   "execution_count": 11,
   "id": "896e0b50",
   "metadata": {
    "scrolled": false
   },
   "outputs": [
    {
     "data": {
      "text/html": [
       "<div>\n",
       "<style scoped>\n",
       "    .dataframe tbody tr th:only-of-type {\n",
       "        vertical-align: middle;\n",
       "    }\n",
       "\n",
       "    .dataframe tbody tr th {\n",
       "        vertical-align: top;\n",
       "    }\n",
       "\n",
       "    .dataframe thead th {\n",
       "        text-align: right;\n",
       "    }\n",
       "</style>\n",
       "<table border=\"1\" class=\"dataframe\">\n",
       "  <thead>\n",
       "    <tr style=\"text-align: right;\">\n",
       "      <th></th>\n",
       "      <th>wmi</th>\n",
       "      <th>restraint</th>\n",
       "      <th>model</th>\n",
       "      <th>engine</th>\n",
       "      <th>check</th>\n",
       "      <th>year</th>\n",
       "      <th>plant</th>\n",
       "      <th>vis</th>\n",
       "      <th>price</th>\n",
       "    </tr>\n",
       "  </thead>\n",
       "  <tbody>\n",
       "    <tr>\n",
       "      <th>0</th>\n",
       "      <td>2FM</td>\n",
       "      <td>D</td>\n",
       "      <td>K3J</td>\n",
       "      <td>C</td>\n",
       "      <td>4</td>\n",
       "      <td>B</td>\n",
       "      <td>B</td>\n",
       "      <td>A41556</td>\n",
       "      <td>12500</td>\n",
       "    </tr>\n",
       "    <tr>\n",
       "      <th>1</th>\n",
       "      <td>3FA</td>\n",
       "      <td>6</td>\n",
       "      <td>P0H</td>\n",
       "      <td>7</td>\n",
       "      <td>5</td>\n",
       "      <td>E</td>\n",
       "      <td>R</td>\n",
       "      <td>208976</td>\n",
       "      <td>14500</td>\n",
       "    </tr>\n",
       "    <tr>\n",
       "      <th>2</th>\n",
       "      <td>3FA</td>\n",
       "      <td>H</td>\n",
       "      <td>P08</td>\n",
       "      <td>Z</td>\n",
       "      <td>1</td>\n",
       "      <td>7</td>\n",
       "      <td>R</td>\n",
       "      <td>268380</td>\n",
       "      <td>1300</td>\n",
       "    </tr>\n",
       "    <tr>\n",
       "      <th>3</th>\n",
       "      <td>1FM</td>\n",
       "      <td>C</td>\n",
       "      <td>U0G</td>\n",
       "      <td>X</td>\n",
       "      <td>3</td>\n",
       "      <td>D</td>\n",
       "      <td>U</td>\n",
       "      <td>C59421</td>\n",
       "      <td>15200</td>\n",
       "    </tr>\n",
       "    <tr>\n",
       "      <th>4</th>\n",
       "      <td>1FA</td>\n",
       "      <td>H</td>\n",
       "      <td>P2E</td>\n",
       "      <td>8</td>\n",
       "      <td>9</td>\n",
       "      <td>D</td>\n",
       "      <td>G</td>\n",
       "      <td>119368</td>\n",
       "      <td>11600</td>\n",
       "    </tr>\n",
       "    <tr>\n",
       "      <th>5</th>\n",
       "      <td>1FM</td>\n",
       "      <td>5</td>\n",
       "      <td>K8D</td>\n",
       "      <td>8</td>\n",
       "      <td>2</td>\n",
       "      <td>D</td>\n",
       "      <td>G</td>\n",
       "      <td>A16143</td>\n",
       "      <td>26400</td>\n",
       "    </tr>\n",
       "    <tr>\n",
       "      <th>6</th>\n",
       "      <td>1FT</td>\n",
       "      <td>F</td>\n",
       "      <td>W1C</td>\n",
       "      <td>F</td>\n",
       "      <td>X</td>\n",
       "      <td>C</td>\n",
       "      <td>F</td>\n",
       "      <td>C23663</td>\n",
       "      <td>14000</td>\n",
       "    </tr>\n",
       "    <tr>\n",
       "      <th>7</th>\n",
       "      <td>2FM</td>\n",
       "      <td>D</td>\n",
       "      <td>K3J</td>\n",
       "      <td>C</td>\n",
       "      <td>6</td>\n",
       "      <td>C</td>\n",
       "      <td>B</td>\n",
       "      <td>A90002</td>\n",
       "      <td>19500</td>\n",
       "    </tr>\n",
       "    <tr>\n",
       "      <th>8</th>\n",
       "      <td>1FT</td>\n",
       "      <td>F</td>\n",
       "      <td>W1C</td>\n",
       "      <td>T</td>\n",
       "      <td>8</td>\n",
       "      <td>D</td>\n",
       "      <td>K</td>\n",
       "      <td>D06233</td>\n",
       "      <td>24400</td>\n",
       "    </tr>\n",
       "    <tr>\n",
       "      <th>9</th>\n",
       "      <td>1FM</td>\n",
       "      <td>Z</td>\n",
       "      <td>U64</td>\n",
       "      <td>W</td>\n",
       "      <td>1</td>\n",
       "      <td>3</td>\n",
       "      <td>U</td>\n",
       "      <td>C28949</td>\n",
       "      <td>2900</td>\n",
       "    </tr>\n",
       "  </tbody>\n",
       "</table>\n",
       "</div>"
      ],
      "text/plain": [
       "   wmi restraint model engine check year plant     vis  price\n",
       "0  2FM         D   K3J      C     4    B     B  A41556  12500\n",
       "1  3FA         6   P0H      7     5    E     R  208976  14500\n",
       "2  3FA         H   P08      Z     1    7     R  268380   1300\n",
       "3  1FM         C   U0G      X     3    D     U  C59421  15200\n",
       "4  1FA         H   P2E      8     9    D     G  119368  11600\n",
       "5  1FM         5   K8D      8     2    D     G  A16143  26400\n",
       "6  1FT         F   W1C      F     X    C     F  C23663  14000\n",
       "7  2FM         D   K3J      C     6    C     B  A90002  19500\n",
       "8  1FT         F   W1C      T     8    D     K  D06233  24400\n",
       "9  1FM         Z   U64      W     1    3     U  C28949   2900"
      ]
     },
     "metadata": {},
     "output_type": "display_data"
    },
    {
     "name": "stdout",
     "output_type": "stream",
     "text": [
      "-----------------\n",
      "<class 'pandas.core.frame.DataFrame'>\n",
      "RangeIndex: 71884 entries, 0 to 71883\n",
      "Data columns (total 9 columns):\n",
      " #   Column     Non-Null Count  Dtype \n",
      "---  ------     --------------  ----- \n",
      " 0   wmi        71884 non-null  object\n",
      " 1   restraint  71884 non-null  object\n",
      " 2   model      71884 non-null  object\n",
      " 3   engine     71884 non-null  object\n",
      " 4   check      71884 non-null  object\n",
      " 5   year       71884 non-null  object\n",
      " 6   plant      71884 non-null  object\n",
      " 7   vis        71884 non-null  object\n",
      " 8   price      71884 non-null  object\n",
      "dtypes: object(9)\n",
      "memory usage: 4.9+ MB\n"
     ]
    },
    {
     "data": {
      "text/plain": [
       "None"
      ]
     },
     "metadata": {},
     "output_type": "display_data"
    },
    {
     "name": "stdout",
     "output_type": "stream",
     "text": [
      "-----------------\n"
     ]
    },
    {
     "data": {
      "text/html": [
       "<div>\n",
       "<style scoped>\n",
       "    .dataframe tbody tr th:only-of-type {\n",
       "        vertical-align: middle;\n",
       "    }\n",
       "\n",
       "    .dataframe tbody tr th {\n",
       "        vertical-align: top;\n",
       "    }\n",
       "\n",
       "    .dataframe thead th {\n",
       "        text-align: right;\n",
       "    }\n",
       "</style>\n",
       "<table border=\"1\" class=\"dataframe\">\n",
       "  <thead>\n",
       "    <tr style=\"text-align: right;\">\n",
       "      <th></th>\n",
       "      <th>wmi</th>\n",
       "      <th>restraint</th>\n",
       "      <th>model</th>\n",
       "      <th>engine</th>\n",
       "      <th>check</th>\n",
       "      <th>year</th>\n",
       "      <th>plant</th>\n",
       "      <th>vis</th>\n",
       "      <th>price</th>\n",
       "    </tr>\n",
       "  </thead>\n",
       "  <tbody>\n",
       "    <tr>\n",
       "      <th>count</th>\n",
       "      <td>71884</td>\n",
       "      <td>71884</td>\n",
       "      <td>71884</td>\n",
       "      <td>71884</td>\n",
       "      <td>71884</td>\n",
       "      <td>71884</td>\n",
       "      <td>71884</td>\n",
       "      <td>71884</td>\n",
       "      <td>71884</td>\n",
       "    </tr>\n",
       "    <tr>\n",
       "      <th>unique</th>\n",
       "      <td>14</td>\n",
       "      <td>26</td>\n",
       "      <td>365</td>\n",
       "      <td>32</td>\n",
       "      <td>11</td>\n",
       "      <td>25</td>\n",
       "      <td>21</td>\n",
       "      <td>68215</td>\n",
       "      <td>643</td>\n",
       "    </tr>\n",
       "    <tr>\n",
       "      <th>top</th>\n",
       "      <td>1FM</td>\n",
       "      <td>D</td>\n",
       "      <td>P0H</td>\n",
       "      <td>2</td>\n",
       "      <td>1</td>\n",
       "      <td>D</td>\n",
       "      <td>R</td>\n",
       "      <td>B55197</td>\n",
       "      <td>11000</td>\n",
       "    </tr>\n",
       "    <tr>\n",
       "      <th>freq</th>\n",
       "      <td>18347</td>\n",
       "      <td>12370</td>\n",
       "      <td>6171</td>\n",
       "      <td>7015</td>\n",
       "      <td>6622</td>\n",
       "      <td>17286</td>\n",
       "      <td>10535</td>\n",
       "      <td>4</td>\n",
       "      <td>574</td>\n",
       "    </tr>\n",
       "  </tbody>\n",
       "</table>\n",
       "</div>"
      ],
      "text/plain": [
       "          wmi restraint  model engine  check   year  plant     vis  price\n",
       "count   71884     71884  71884  71884  71884  71884  71884   71884  71884\n",
       "unique     14        26    365     32     11     25     21   68215    643\n",
       "top       1FM         D    P0H      2      1      D      R  B55197  11000\n",
       "freq    18347     12370   6171   7015   6622  17286  10535       4    574"
      ]
     },
     "metadata": {},
     "output_type": "display_data"
    },
    {
     "name": "stdout",
     "output_type": "stream",
     "text": [
      "-----------------\n",
      "Количество явных дубликатов: 0\n",
      "-----------------\n"
     ]
    },
    {
     "data": {
      "text/plain": [
       "wmi          0\n",
       "restraint    0\n",
       "model        0\n",
       "engine       0\n",
       "check        0\n",
       "year         0\n",
       "plant        0\n",
       "vis          0\n",
       "price        0\n",
       "dtype: int64"
      ]
     },
     "metadata": {},
     "output_type": "display_data"
    }
   ],
   "source": [
    "check(data_ford)"
   ]
  },
  {
   "cell_type": "markdown",
   "id": "b717ff2d",
   "metadata": {},
   "source": [
    "Получили датафрейм размерностью 71884 на 9 (столбцы определены в соответствии с обозначениями, приведенными в Таблице 1). Пропуски и дубликаты в данных не обнаружены"
   ]
  },
  {
   "cell_type": "code",
   "execution_count": 12,
   "id": "87c874af",
   "metadata": {},
   "outputs": [],
   "source": [
    "data_ford['price'] = data_ford['price'].astype(int) #приведем Цену к числовому типу данных"
   ]
  },
  {
   "cell_type": "code",
   "execution_count": 13,
   "id": "b9961f0b",
   "metadata": {
    "scrolled": true
   },
   "outputs": [
    {
     "data": {
      "text/html": [
       "<div>\n",
       "<style scoped>\n",
       "    .dataframe tbody tr th:only-of-type {\n",
       "        vertical-align: middle;\n",
       "    }\n",
       "\n",
       "    .dataframe tbody tr th {\n",
       "        vertical-align: top;\n",
       "    }\n",
       "\n",
       "    .dataframe thead th {\n",
       "        text-align: right;\n",
       "    }\n",
       "</style>\n",
       "<table border=\"1\" class=\"dataframe\">\n",
       "  <thead>\n",
       "    <tr style=\"text-align: right;\">\n",
       "      <th></th>\n",
       "      <th>price</th>\n",
       "    </tr>\n",
       "  </thead>\n",
       "  <tbody>\n",
       "    <tr>\n",
       "      <th>count</th>\n",
       "      <td>71884.000000</td>\n",
       "    </tr>\n",
       "    <tr>\n",
       "      <th>mean</th>\n",
       "      <td>14321.449377</td>\n",
       "    </tr>\n",
       "    <tr>\n",
       "      <th>std</th>\n",
       "      <td>7827.057238</td>\n",
       "    </tr>\n",
       "    <tr>\n",
       "      <th>min</th>\n",
       "      <td>1000.000000</td>\n",
       "    </tr>\n",
       "    <tr>\n",
       "      <th>25%</th>\n",
       "      <td>8800.000000</td>\n",
       "    </tr>\n",
       "    <tr>\n",
       "      <th>50%</th>\n",
       "      <td>13500.000000</td>\n",
       "    </tr>\n",
       "    <tr>\n",
       "      <th>75%</th>\n",
       "      <td>19500.000000</td>\n",
       "    </tr>\n",
       "    <tr>\n",
       "      <th>max</th>\n",
       "      <td>36500.000000</td>\n",
       "    </tr>\n",
       "  </tbody>\n",
       "</table>\n",
       "</div>"
      ],
      "text/plain": [
       "              price\n",
       "count  71884.000000\n",
       "mean   14321.449377\n",
       "std     7827.057238\n",
       "min     1000.000000\n",
       "25%     8800.000000\n",
       "50%    13500.000000\n",
       "75%    19500.000000\n",
       "max    36500.000000"
      ]
     },
     "execution_count": 13,
     "metadata": {},
     "output_type": "execute_result"
    }
   ],
   "source": [
    "data_ford.describe() #посмотрим на описательные характеристики"
   ]
  },
  {
   "cell_type": "markdown",
   "id": "6e6cfaed",
   "metadata": {},
   "source": [
    "Получили, что цена автомобилей FORD лежит в диапазоне от 1000 до 36500, среднее значение цены составляет 14321,5, а медианное 13500. Далее посмотрим на распределение цены с помощью построения гистограммы, а также для определения возможных выбросов построим \"ящик с усами\"."
   ]
  },
  {
   "cell_type": "code",
   "execution_count": 14,
   "id": "de3535b0",
   "metadata": {},
   "outputs": [
    {
     "data": {
      "image/png": "[encoded data removed]",
      "text/plain": [
       "<Figure size 700x700 with 1 Axes>"
      ]
     },
     "metadata": {},
     "output_type": "display_data"
    }
   ],
   "source": [
    "data_ford['price'].hist(figsize=(7,7))\n",
    "plt.xlabel('Цена автомобиля марки FORD')\n",
    "plt.title('Гистограмма цены автомобиля марки FORD')\n",
    "plt.show()"
   ]
  },
  {
   "cell_type": "code",
   "execution_count": 15,
   "id": "2e589924",
   "metadata": {
    "scrolled": false
   },
   "outputs": [
    {
     "data": {
      "image/png": "[encoded data removed]",
      "text/plain": [
       "<Figure size 640x480 with 1 Axes>"
      ]
     },
     "metadata": {},
     "output_type": "display_data"
    }
   ],
   "source": [
    "sns.boxplot(data=data_ford['price'], palette='magma', width=0.8)\n",
    "plt.title('Диаграмма размаха цен на автомобили', fontsize=14)\n",
    "#plt.xlabel('Время мощности')\n",
    "plt.ylabel('Цена')\n",
    "plt.ylim(0, 50000)\n",
    "plt.show()"
   ]
  },
  {
   "cell_type": "markdown",
   "id": "37f188b2",
   "metadata": {},
   "source": [
    "**Вывод по разделу**\n",
    "\n",
    "На основе имеющих данных сформировали датафрейм размерностью 718884 на 9. Для минимального исследовательского анализа цены провели преобразование цены к числовому виду и построли гистограмму и диаграмму размаха (\"ящик с усами\").\n",
    "По полученым графикам видно, что цена имеет близкое к нормальному распределение, и не имеет аномальных выбросов в виде очень маленьких либо очень больших цен на автомобили.\n"
   ]
  },
  {
   "cell_type": "markdown",
   "id": "037e42be",
   "metadata": {},
   "source": [
    "### 5. Подготовка данных для обучения модели (разделение на тренировочную и тестовую выборку)."
   ]
  },
  {
   "cell_type": "markdown",
   "id": "990b6d3b",
   "metadata": {},
   "source": [
    "Разделим данные на признаки и целевой признак. Так же из признаков уберем контрольные цифры (CHECK) и порядковые номера (VIC), так как данные признаки не будут вносить особого влияния на предсказание моделей"
   ]
  },
  {
   "cell_type": "code",
   "execution_count": 16,
   "id": "8ca09c71",
   "metadata": {},
   "outputs": [],
   "source": [
    "features = data_ford.drop(['check', 'vis', 'price'], axis=1).astype('category')\n",
    "target = data_ford['price']"
   ]
  },
  {
   "cell_type": "code",
   "execution_count": 17,
   "id": "975a84af",
   "metadata": {},
   "outputs": [
    {
     "name": "stdout",
     "output_type": "stream",
     "text": [
      "(71884, 6) (71884,)\n"
     ]
    }
   ],
   "source": [
    "print(features.shape, target.shape) #посмотрим на размерность"
   ]
  },
  {
   "cell_type": "markdown",
   "id": "b5e6e8ab",
   "metadata": {},
   "source": [
    "Разделим данные на тренировочную и тестовые выборки в соотношении 3:1"
   ]
  },
  {
   "cell_type": "code",
   "execution_count": 18,
   "id": "a5d7c4d3",
   "metadata": {},
   "outputs": [],
   "source": [
    "features_train, features_test, target_train, target_test = train_test_split(features,\n",
    "                                                                            target,\n",
    "                                                                            test_size=0.25,\n",
    "                                                                            random_state=12345)"
   ]
  },
  {
   "cell_type": "code",
   "execution_count": 19,
   "id": "ce20a2d2",
   "metadata": {},
   "outputs": [
    {
     "name": "stdout",
     "output_type": "stream",
     "text": [
      "(53913, 6) (53913,) (17971, 6) (17971,)\n"
     ]
    }
   ],
   "source": [
    "#посмотрим на размерность тренировочной и тестовой выборок\n",
    "print(features_train.shape, target_train.shape, features_test.shape, target_test.shape) "
   ]
  },
  {
   "cell_type": "markdown",
   "id": "2f5bfd48",
   "metadata": {},
   "source": [
    "### 6. Определение оптимальной модели XGBRegressor"
   ]
  },
  {
   "cell_type": "markdown",
   "id": "5b34b530",
   "metadata": {},
   "source": [
    "Так как в качестве признаков выступают категориальные признаки в качестве модели выбрана модель XGBRegressor"
   ]
  },
  {
   "cell_type": "code",
   "execution_count": 20,
   "id": "bdaefc77",
   "metadata": {},
   "outputs": [],
   "source": [
    "#Определение оцениваемых метрик RMSE и MAPE\n",
    "scoring = ['neg_root_mean_squared_error', 'neg_mean_absolute_percentage_error']"
   ]
  },
  {
   "cell_type": "markdown",
   "id": "1be45554",
   "metadata": {},
   "source": [
    "С помощью перебора параметров по GridSearchCV найдем оптимальные значения метрик RMSE и MAPE на тренировочной выборке"
   ]
  },
  {
   "cell_type": "code",
   "execution_count": 21,
   "id": "bf08ef1e",
   "metadata": {
    "scrolled": false
   },
   "outputs": [
    {
     "name": "stdout",
     "output_type": "stream",
     "text": [
      "Наилучшие параметры модели на тренировочной выборке:\n",
      "{'max_depth': 5, 'n_estimators': 100, 'random_state': 12345}\n",
      "Наилучшее значение RMSE на тренировочной выборке:\n",
      "2813.8850043417206\n",
      "Наилучшее значение MAPE на тренировочной выборке:\n",
      "0.20428753608665762\n"
     ]
    }
   ],
   "source": [
    "xgbr = XGBRegressor(enable_categorical=True) \n",
    "parameters = [{'n_estimators':[100, 200], 'random_state':[12345], 'max_depth':[5,6,7]}]\n",
    "\n",
    "gscv = GridSearchCV(xgbr, parameters, scoring=scoring,\n",
    "                    cv=2, n_jobs=5, refit='neg_root_mean_squared_error', return_train_score=True)\n",
    "gscv.fit(features_train, target_train)\n",
    "\n",
    "\n",
    "print(\"Наилучшие параметры модели на тренировочной выборке:\")\n",
    "print(gscv.best_params_)\n",
    "print(\"Наилучшее значение RMSE на тренировочной выборке:\")\n",
    "print(-gscv.best_score_)\n",
    "print(\"Наилучшее значение MAPE на тренировочной выборке:\")\n",
    "print(-gscv.cv_results_['mean_test_neg_mean_absolute_percentage_error'][gscv.best_index_])"
   ]
  },
  {
   "cell_type": "code",
   "execution_count": 22,
   "id": "f151fcf0",
   "metadata": {},
   "outputs": [
    {
     "name": "stdout",
     "output_type": "stream",
     "text": [
      "RMSE для модели XGBRegressor на тестовой выборке: 2762.2998970014823\n",
      "MAPE для модели XGBRegressor на тестовой выборке: 0.16894731206957606\n"
     ]
    }
   ],
   "source": [
    "xgbr_test = XGBRegressor(enable_categorical=True,\n",
    "                          n_estimators=100,\n",
    "                          max_depth=5,\n",
    "                          random_state=12345) \n",
    "xgbr_test.fit(features_train, target_train)\n",
    "prediction_test = xgbr_test.predict(features_test)\n",
    "rsme_test = mean_squared_error(prediction_test, target_test) ** .5\n",
    "mape_test = mean_absolute_percentage_error(prediction_test, target_test)\n",
    "print('RMSE для модели XGBRegressor на тестовой выборке:', rsme_test)\n",
    "print('MAPE для модели XGBRegressor на тестовой выборке:', mape_test)\n"
   ]
  },
  {
   "cell_type": "markdown",
   "id": "9bb00179",
   "metadata": {},
   "source": [
    "**Вывод по разделу**:\n",
    "1. Обучили модель XGBRegressor и перебором параметров определили оптимальную модель с наилучшими метриками RMSE и MAPE. Лучшая модель на тренировочной выборке с параметрами `n_estimators=100` и `max_depth=5` имеет значения RMSE=2813.88 и MAPE=0.20\n",
    "2. Провели проверку оптимальной модели на тестовой выборке. Получили следующие значения метрик: RMSE=2762.29 и MAPE=0.17"
   ]
  },
  {
   "cell_type": "markdown",
   "id": "c70d1db3",
   "metadata": {},
   "source": [
    "### 7. Оценка адекватности модели с помощью константной модели"
   ]
  },
  {
   "cell_type": "code",
   "execution_count": 23,
   "id": "28907c45",
   "metadata": {},
   "outputs": [
    {
     "name": "stdout",
     "output_type": "stream",
     "text": [
      "RMSE константной модели на тестовой выборке: 7777.201738147304\n",
      "MAPE константной модели на тестовой выборке: 0.4419440260420348\n"
     ]
    }
   ],
   "source": [
    "dummy = DummyRegressor(strategy='mean')\n",
    "dummy.fit(features_train, target_train)\n",
    "dummy_predict = dummy.predict(features_test)\n",
    "rmse_dummy = mean_squared_error(dummy_predict, target_test) ** .5\n",
    "mape_dummy = mean_absolute_percentage_error(dummy_predict, target_test)\n",
    "print('RMSE константной модели на тестовой выборке:', rmse_dummy)\n",
    "print('MAPE константной модели на тестовой выборке:', mape_dummy)"
   ]
  },
  {
   "cell_type": "markdown",
   "id": "86013539",
   "metadata": {},
   "source": [
    "**Вывод по разделу**:\n",
    "Оценку адекватности модели проводила с помощью простейшей Dummy модели, которая всегда предсказывает наиболее часто встречающийся класс. На данной модели получили следующие метрики:\n",
    "RMSE=7777.20 и MAPE=0.44, которые гораздо больше полученных при обучении XGBRegressor, что доказывает адекватность ее построения и выбора"
   ]
  },
  {
   "cell_type": "markdown",
   "id": "94f28f1f",
   "metadata": {},
   "source": [
    "### 8. Оценка важности признаков"
   ]
  },
  {
   "cell_type": "markdown",
   "id": "d4099551",
   "metadata": {},
   "source": [
    "Оценку важности признаков построим с помощью библиотеки Seaborn"
   ]
  },
  {
   "cell_type": "code",
   "execution_count": 24,
   "id": "012fa7ba",
   "metadata": {},
   "outputs": [
    {
     "data": {
      "image/png": "[encoded data removed]",
      "text/plain": [
       "<Figure size 1800x900 with 1 Axes>"
      ]
     },
     "metadata": {},
     "output_type": "display_data"
    }
   ],
   "source": [
    "plot_data = {\n",
    "    'features': features_test.columns,\n",
    "    'feature_importances': xgbr_test.feature_importances_,\n",
    "}\n",
    "plot_data = pd.DataFrame(plot_data)\n",
    "plot_data.sort_values(by='feature_importances', ascending=False, inplace=True)\n",
    "plt.figure(figsize=(18, 9))\n",
    "sns.barplot(x=plot_data['feature_importances'], y=plot_data['features'])\n",
    "plt.title('Важность признаков для XGBRegressor', fontsize=14)\n",
    "plt.xlabel('Критерий важности')\n",
    "plt.ylabel('Названия признаков')\n",
    "plt.show()"
   ]
  },
  {
   "cell_type": "markdown",
   "id": "1863754d",
   "metadata": {},
   "source": [
    "**Вывод по разделу**:\n",
    "По полученной диаграмме важности признаков видно, что наибольшее влияние на цену оказывает модель и год выпуска автомобиля, дальше идут тип двигателя, тормозная система и т.д."
   ]
  },
  {
   "cell_type": "markdown",
   "id": "d468d848",
   "metadata": {},
   "source": [
    "### 9. Общий вывод"
   ]
  },
  {
   "cell_type": "markdown",
   "id": "95bbaed0",
   "metadata": {},
   "source": [
    "Задачей данного исследования было предсказание цены автомобиля имея только текстовый файл с VIN-кодами автомобилей марки FORD с указанием их цены.\n",
    "\n",
    "Для решения поставленной задачи были выполнены следующие действия:\n",
    "1. С помощью регулярных выражений установлены правила, для определения допустимых символов и цифр в VIN-коде\n",
    "2. С помощью регулярных выражений установлены правила разделения VIN-кода в соответствии с позициями и их расшифровкой VIN-кода, приведенных в таблице 1.\n",
    "3. С помощью регулярных выражений провден поиск невалидных объектов в имеющихся данных\n",
    "4. Сформирован рабочий датафрейм размерностью 71884 строк на 8 столбцов признаков плюс 1 столбец целевого признака - цены. Проведен исследовательский анализ целевого признака (построены гистограмма и диаграмма размаха). Установлено, что целевой признак распределен близко к нормальному, выбросы не обнаружены. Пропусков и явных дубликатов в данных тоже нет.\n",
    "5. Подготовлены данные для обучение модели (разделение на тренировочную и тестовую выборку в соотношении 3:1). Получили выборки размерностью:\n",
    "   - тренировочная  53913, 6;\n",
    "   - тестовая 17971, 6 \n",
    "6. Подобрана оптимальная модель для обучения. Оптимальность модели оценивалась с помощью метрик RMSE и MAPE. \n",
    "   - Обучили модель XGBRegressor и перебором параметров определили оптимальную модель с наилучшими метриками RMSE и MAPE. Лучшая модель на тренировочной выборке с параметрами `n_estimators=100` и `max_depth=5` имеет значения RMSE=2813.88 и MAPE=0.20\n",
    "   - Провели проверку оптимальной модели на тестовой выборке. Получили следующие значения метрик: RMSE=2762.29 и MAPE=0.17\n",
    "7. Адекватность модели оценивалась с помощью константной Dummy модели. На константной модели получили RMSE=7777.20 и MAPE=0.44, которые гораздо больше полученных при обучении XGBRegressor, что доказывает адекватность ее построения и выбора.\n",
    "8. Проведена оценка важности признаков, установлено, что наибольшее влияние на предсказание цены автомоболя оказывает модель и год выпуска автомобиля.\n"
   ]
  },
  {
   "cell_type": "code",
   "execution_count": null,
   "id": "c36d8d5d",
   "metadata": {},
   "outputs": [],
   "source": []
  }
 ],
 "metadata": {
  "kernelspec": {
   "display_name": "Python 3 (ipykernel)",
   "language": "python",
   "name": "python3"
  },
  "language_info": {
   "codemirror_mode": {
    "name": "ipython",
    "version": 3
   },
   "file_extension": ".py",
   "mimetype": "text/x-python",
   "name": "python",
   "nbconvert_exporter": "python",
   "pygments_lexer": "ipython3",
   "version": "3.11.5"
  }
 },
 "nbformat": 4,
 "nbformat_minor": 5
}
