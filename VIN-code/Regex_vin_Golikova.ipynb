{
 "cells": [
  {
   "cell_type": "markdown",
   "id": "5f01bbdd",
   "metadata": {},
   "source": [
    "# Предсказание автомобиля марки Ford по VIN-коду с применением регулярных выражений"
   ]
  },
  {
   "cell_type": "markdown",
   "id": "230dd76c",
   "metadata": {},
   "source": [
    "VIN-код или Идентификационный номер транспортного средства - это уникальный код транспортного средства, состоящий из 17 знаков. В коде представлены сведения о производителе и характеристиках транспортного средства, а также о годе выпуска. Строение кода основано на стандартах ISO 3779-1983 и ISO 3780."
   ]
  },
  {
   "cell_type": "markdown",
   "id": "6ea310e7",
   "metadata": {},
   "source": [
    "|Столбец 1|Столбец 2|Столбец 3|\n",
    "|-|--------|---|\n",
    "|Длинная запись в первом столбце|Запись в столбце 2|Запись в столбце 3|\n",
    "|Кртк зпс| |Слева нет записи|"
   ]
  },
  {
   "cell_type": "markdown",
   "id": "8adda4a2",
   "metadata": {},
   "source": []
  },
  {
   "cell_type": "code",
   "execution_count": 45,
   "id": "19f6e327",
   "metadata": {},
   "outputs": [],
   "source": [
    "#pip install xgboost"
   ]
  },
  {
   "cell_type": "code",
   "execution_count": 34,
   "id": "42486bad",
   "metadata": {},
   "outputs": [],
   "source": [
    "import re\n",
    "\n",
    "import pandas as pd\n",
    "import numpy as np\n",
    "\n",
    "from matplotlib import pyplot as plt\n",
    "import seaborn as sns\n",
    "import xgboost\n",
    "from xgboost import XGBRegressor\n",
    "\n",
    "from sklearn.dummy import DummyRegressor\n",
    "from sklearn.model_selection import cross_validate\n",
    "from sklearn.model_selection import cross_val_score, GridSearchCV\n",
    "\n",
    "from sklearn.metrics import make_scorer, mean_absolute_percentage_error, mean_squared_error\n",
    "\n",
    "import shap"
   ]
  },
  {
   "cell_type": "code",
   "execution_count": 2,
   "id": "3b2635ed",
   "metadata": {},
   "outputs": [
    {
     "data": {
      "text/plain": [
       "'ABCDEFGHJKLMNPRSTUVWXYZ1234567890'"
      ]
     },
     "execution_count": 2,
     "metadata": {},
     "output_type": "execute_result"
    }
   ],
   "source": [
    "ALLOWED_CHARS = [chr(x) for x in range(ord('A'), ord('Z')+1) if chr(x) not in ('I', 'O', 'Q')]\n",
    "ALLOWED_NUMS = [str(x) for x in range(1,10)] + ['0']\n",
    "\n",
    "allowed = ''.join(ALLOWED_CHARS+ALLOWED_NUMS)\n",
    "allowed"
   ]
  },
  {
   "cell_type": "code",
   "execution_count": 3,
   "id": "21dc2eaf",
   "metadata": {},
   "outputs": [],
   "source": [
    "wmi = f'(?P<wmi>[{allowed}]{{3}})'\n",
    "restraint = f'(?P<restraint>[{allowed}])'\n",
    "model = f'(?P<model>[{allowed}]{{3}})'\n",
    "engine = f'(?P<engine>[{allowed}])'\n",
    "check = f'(?P<check>[{allowed}])'\n",
    "year = f'(?P<year>[{allowed}])'\n",
    "plant = f'(?P<plant>[{allowed}])'\n",
    "vis = f'(?P<vis>[{allowed}]{{3}}\\\\d{{3}})'\n",
    "\n",
    "VIN = f'{wmi}{restraint}{model}{engine}{check}{year}{plant}{vis}'\n",
    "PRICE = r'(?P<price>\\d+)'"
   ]
  },
  {
   "cell_type": "code",
   "execution_count": null,
   "id": "73ba201d",
   "metadata": {},
   "outputs": [],
   "source": []
  },
  {
   "cell_type": "code",
   "execution_count": 4,
   "id": "e6a7d528",
   "metadata": {},
   "outputs": [
    {
     "data": {
      "text/plain": [
       "'[2FMDK3JC4BBA41556:12500]мой[3FA6P0H75ER208976:14500]дядя [3FAHP08Z17R268380:1300][1FMCU0GX3DUC59421:15200]самых [1FAHP2E89DG119368:11600] верных[1FM5K8D82DGA16143:26400][1FTFW1CFXCFC23663:14000][2FMDK3JC6CBA90002:19500][1FTFW1CT8DKD06233:24400][1FMZ'"
      ]
     },
     "execution_count": 4,
     "metadata": {},
     "output_type": "execute_result"
    }
   ],
   "source": [
    "with open('vin_ford_train.txt', 'r', encoding='utf-8') as f:\n",
    "    content = f.read()\n",
    "    \n",
    "content[:250]"
   ]
  },
  {
   "cell_type": "markdown",
   "id": "6b9cf808",
   "metadata": {},
   "source": [
    "Формат данных VIN:PRICE"
   ]
  },
  {
   "cell_type": "code",
   "execution_count": 5,
   "id": "f72100d7",
   "metadata": {},
   "outputs": [
    {
     "data": {
      "text/plain": [
       "re.compile(r'\\[(?P<wmi>[ABCDEFGHJKLMNPRSTUVWXYZ1234567890]{3})(?P<restraint>[ABCDEFGHJKLMNPRSTUVWXYZ1234567890])(?P<model>[ABCDEFGHJKLMNPRSTUVWXYZ1234567890]{3})(?P<engine>[ABCDEFGHJKLMNPRSTUVWXYZ1234567890])(?P<check>[ABCDEFGHJKLMNPRSTUVWXYZ1234567890])(?P<year>[ABCDEFGHJKLMNPRSTUVWXYZ1234567890])(?P<plant>[ABCDEFGHJKLMNPRSTUVWXYZ1234567890])(?P<vis>[ABCDEFGHJKLMNPRSTUVWXYZ1234567890]{3}\\d{3}):(?P<price>\\d+)\\]',\n",
       "           re.UNICODE)"
      ]
     },
     "execution_count": 5,
     "metadata": {},
     "output_type": "execute_result"
    }
   ],
   "source": [
    "data = re.compile(f'\\\\[{VIN}:{PRICE}\\\\]')\n",
    "data"
   ]
  },
  {
   "cell_type": "code",
   "execution_count": 6,
   "id": "2d772579",
   "metadata": {},
   "outputs": [
    {
     "data": {
      "text/plain": [
       "[{'wmi': '2FM',\n",
       "  'restraint': 'D',\n",
       "  'model': 'K3J',\n",
       "  'engine': 'C',\n",
       "  'check': '4',\n",
       "  'year': 'B',\n",
       "  'plant': 'B',\n",
       "  'vis': 'A41556',\n",
       "  'price': '12500'}]"
      ]
     },
     "execution_count": 6,
     "metadata": {},
     "output_type": "execute_result"
    }
   ],
   "source": [
    "values = []\n",
    "for obj in data.finditer(content):\n",
    "    values.append(obj.groupdict())\n",
    "\n",
    "values[:1]"
   ]
  },
  {
   "cell_type": "markdown",
   "id": "2e43b2bb",
   "metadata": {},
   "source": [
    "Поиск невалидных объектов"
   ]
  },
  {
   "cell_type": "code",
   "execution_count": 7,
   "id": "cd469602",
   "metadata": {},
   "outputs": [
    {
     "data": {
      "text/plain": [
       "[{'invalid_data': '[1FM5K8D83DGB91002:XXXX]'},\n",
       " {'invalid_data': '[1FM5K8D83DGB9100X:26600]'}]"
      ]
     },
     "execution_count": 7,
     "metadata": {},
     "output_type": "execute_result"
    }
   ],
   "source": [
    "valid_vin = r'(\\w{14}\\d{3})'\n",
    "valid_price = r'(\\d+)'\n",
    "\n",
    "invalid_vin = r'(?!\\w{14}\\d{3})(\\w+)'\n",
    "invalid_prcie = r'(?!\\d+)(\\w+)'\n",
    "\n",
    "invalid_variance = [\n",
    "    f'\\\\[{invalid_vin}:{invalid_prcie}\\\\]',\n",
    "    f'\\\\[{valid_vin}:{invalid_prcie}\\\\]',\n",
    "    f'\\\\[{invalid_vin}:{valid_price}\\\\]',\n",
    "]\n",
    "\n",
    "invalid_pattern = re.compile('(?P<invalid_data>' + '|'.join(invalid_variance) + ')')\n",
    "\n",
    "invalid_values = []\n",
    "for obj in invalid_pattern.finditer(content):\n",
    "    invalid_values.append(obj.groupdict())\n",
    "    \n",
    "invalid_values"
   ]
  },
  {
   "cell_type": "code",
   "execution_count": null,
   "id": "d1a8c51c",
   "metadata": {},
   "outputs": [],
   "source": []
  },
  {
   "cell_type": "markdown",
   "id": "647455fc",
   "metadata": {},
   "source": [
    "Создание датасета"
   ]
  },
  {
   "cell_type": "code",
   "execution_count": 8,
   "id": "872cd9f9",
   "metadata": {},
   "outputs": [],
   "source": [
    "data_ford = pd.DataFrame(values)"
   ]
  },
  {
   "cell_type": "markdown",
   "id": "609e70ba",
   "metadata": {},
   "source": [
    "Напишем функцию для \"чекинга\" полученного датафрейма"
   ]
  },
  {
   "cell_type": "code",
   "execution_count": 10,
   "id": "c1377ca1",
   "metadata": {},
   "outputs": [],
   "source": [
    "def check(data):\n",
    "    display(data.head(10))\n",
    "    print('-----------------')\n",
    "    display(data.info())\n",
    "    print('-----------------')\n",
    "    display(data.describe())"
   ]
  },
  {
   "cell_type": "markdown",
   "id": "f808213b",
   "metadata": {},
   "source": [
    "Посмотрим на полученный датафрейм"
   ]
  },
  {
   "cell_type": "code",
   "execution_count": 56,
   "id": "896e0b50",
   "metadata": {},
   "outputs": [
    {
     "data": {
      "text/html": [
       "<div>\n",
       "<style scoped>\n",
       "    .dataframe tbody tr th:only-of-type {\n",
       "        vertical-align: middle;\n",
       "    }\n",
       "\n",
       "    .dataframe tbody tr th {\n",
       "        vertical-align: top;\n",
       "    }\n",
       "\n",
       "    .dataframe thead th {\n",
       "        text-align: right;\n",
       "    }\n",
       "</style>\n",
       "<table border=\"1\" class=\"dataframe\">\n",
       "  <thead>\n",
       "    <tr style=\"text-align: right;\">\n",
       "      <th></th>\n",
       "      <th>wmi</th>\n",
       "      <th>restraint</th>\n",
       "      <th>model</th>\n",
       "      <th>engine</th>\n",
       "      <th>check</th>\n",
       "      <th>year</th>\n",
       "      <th>plant</th>\n",
       "      <th>vis</th>\n",
       "      <th>price</th>\n",
       "    </tr>\n",
       "  </thead>\n",
       "  <tbody>\n",
       "    <tr>\n",
       "      <th>0</th>\n",
       "      <td>2FM</td>\n",
       "      <td>D</td>\n",
       "      <td>K3J</td>\n",
       "      <td>C</td>\n",
       "      <td>4</td>\n",
       "      <td>B</td>\n",
       "      <td>B</td>\n",
       "      <td>A41556</td>\n",
       "      <td>12500</td>\n",
       "    </tr>\n",
       "    <tr>\n",
       "      <th>1</th>\n",
       "      <td>3FA</td>\n",
       "      <td>6</td>\n",
       "      <td>P0H</td>\n",
       "      <td>7</td>\n",
       "      <td>5</td>\n",
       "      <td>E</td>\n",
       "      <td>R</td>\n",
       "      <td>208976</td>\n",
       "      <td>14500</td>\n",
       "    </tr>\n",
       "    <tr>\n",
       "      <th>2</th>\n",
       "      <td>3FA</td>\n",
       "      <td>H</td>\n",
       "      <td>P08</td>\n",
       "      <td>Z</td>\n",
       "      <td>1</td>\n",
       "      <td>7</td>\n",
       "      <td>R</td>\n",
       "      <td>268380</td>\n",
       "      <td>1300</td>\n",
       "    </tr>\n",
       "    <tr>\n",
       "      <th>3</th>\n",
       "      <td>1FM</td>\n",
       "      <td>C</td>\n",
       "      <td>U0G</td>\n",
       "      <td>X</td>\n",
       "      <td>3</td>\n",
       "      <td>D</td>\n",
       "      <td>U</td>\n",
       "      <td>C59421</td>\n",
       "      <td>15200</td>\n",
       "    </tr>\n",
       "    <tr>\n",
       "      <th>4</th>\n",
       "      <td>1FA</td>\n",
       "      <td>H</td>\n",
       "      <td>P2E</td>\n",
       "      <td>8</td>\n",
       "      <td>9</td>\n",
       "      <td>D</td>\n",
       "      <td>G</td>\n",
       "      <td>119368</td>\n",
       "      <td>11600</td>\n",
       "    </tr>\n",
       "    <tr>\n",
       "      <th>5</th>\n",
       "      <td>1FM</td>\n",
       "      <td>5</td>\n",
       "      <td>K8D</td>\n",
       "      <td>8</td>\n",
       "      <td>2</td>\n",
       "      <td>D</td>\n",
       "      <td>G</td>\n",
       "      <td>A16143</td>\n",
       "      <td>26400</td>\n",
       "    </tr>\n",
       "    <tr>\n",
       "      <th>6</th>\n",
       "      <td>1FT</td>\n",
       "      <td>F</td>\n",
       "      <td>W1C</td>\n",
       "      <td>F</td>\n",
       "      <td>X</td>\n",
       "      <td>C</td>\n",
       "      <td>F</td>\n",
       "      <td>C23663</td>\n",
       "      <td>14000</td>\n",
       "    </tr>\n",
       "    <tr>\n",
       "      <th>7</th>\n",
       "      <td>2FM</td>\n",
       "      <td>D</td>\n",
       "      <td>K3J</td>\n",
       "      <td>C</td>\n",
       "      <td>6</td>\n",
       "      <td>C</td>\n",
       "      <td>B</td>\n",
       "      <td>A90002</td>\n",
       "      <td>19500</td>\n",
       "    </tr>\n",
       "    <tr>\n",
       "      <th>8</th>\n",
       "      <td>1FT</td>\n",
       "      <td>F</td>\n",
       "      <td>W1C</td>\n",
       "      <td>T</td>\n",
       "      <td>8</td>\n",
       "      <td>D</td>\n",
       "      <td>K</td>\n",
       "      <td>D06233</td>\n",
       "      <td>24400</td>\n",
       "    </tr>\n",
       "    <tr>\n",
       "      <th>9</th>\n",
       "      <td>1FM</td>\n",
       "      <td>Z</td>\n",
       "      <td>U64</td>\n",
       "      <td>W</td>\n",
       "      <td>1</td>\n",
       "      <td>3</td>\n",
       "      <td>U</td>\n",
       "      <td>C28949</td>\n",
       "      <td>2900</td>\n",
       "    </tr>\n",
       "  </tbody>\n",
       "</table>\n",
       "</div>"
      ],
      "text/plain": [
       "   wmi restraint model engine check year plant     vis  price\n",
       "0  2FM         D   K3J      C     4    B     B  A41556  12500\n",
       "1  3FA         6   P0H      7     5    E     R  208976  14500\n",
       "2  3FA         H   P08      Z     1    7     R  268380   1300\n",
       "3  1FM         C   U0G      X     3    D     U  C59421  15200\n",
       "4  1FA         H   P2E      8     9    D     G  119368  11600\n",
       "5  1FM         5   K8D      8     2    D     G  A16143  26400\n",
       "6  1FT         F   W1C      F     X    C     F  C23663  14000\n",
       "7  2FM         D   K3J      C     6    C     B  A90002  19500\n",
       "8  1FT         F   W1C      T     8    D     K  D06233  24400\n",
       "9  1FM         Z   U64      W     1    3     U  C28949   2900"
      ]
     },
     "metadata": {},
     "output_type": "display_data"
    },
    {
     "name": "stdout",
     "output_type": "stream",
     "text": [
      "-----------------\n",
      "<class 'pandas.core.frame.DataFrame'>\n",
      "RangeIndex: 71884 entries, 0 to 71883\n",
      "Data columns (total 9 columns):\n",
      " #   Column     Non-Null Count  Dtype \n",
      "---  ------     --------------  ----- \n",
      " 0   wmi        71884 non-null  object\n",
      " 1   restraint  71884 non-null  object\n",
      " 2   model      71884 non-null  object\n",
      " 3   engine     71884 non-null  object\n",
      " 4   check      71884 non-null  object\n",
      " 5   year       71884 non-null  object\n",
      " 6   plant      71884 non-null  object\n",
      " 7   vis        71884 non-null  object\n",
      " 8   price      71884 non-null  object\n",
      "dtypes: object(9)\n",
      "memory usage: 4.9+ MB\n"
     ]
    },
    {
     "data": {
      "text/plain": [
       "None"
      ]
     },
     "metadata": {},
     "output_type": "display_data"
    },
    {
     "name": "stdout",
     "output_type": "stream",
     "text": [
      "-----------------\n"
     ]
    },
    {
     "data": {
      "text/html": [
       "<div>\n",
       "<style scoped>\n",
       "    .dataframe tbody tr th:only-of-type {\n",
       "        vertical-align: middle;\n",
       "    }\n",
       "\n",
       "    .dataframe tbody tr th {\n",
       "        vertical-align: top;\n",
       "    }\n",
       "\n",
       "    .dataframe thead th {\n",
       "        text-align: right;\n",
       "    }\n",
       "</style>\n",
       "<table border=\"1\" class=\"dataframe\">\n",
       "  <thead>\n",
       "    <tr style=\"text-align: right;\">\n",
       "      <th></th>\n",
       "      <th>wmi</th>\n",
       "      <th>restraint</th>\n",
       "      <th>model</th>\n",
       "      <th>engine</th>\n",
       "      <th>check</th>\n",
       "      <th>year</th>\n",
       "      <th>plant</th>\n",
       "      <th>vis</th>\n",
       "      <th>price</th>\n",
       "    </tr>\n",
       "  </thead>\n",
       "  <tbody>\n",
       "    <tr>\n",
       "      <th>count</th>\n",
       "      <td>71884</td>\n",
       "      <td>71884</td>\n",
       "      <td>71884</td>\n",
       "      <td>71884</td>\n",
       "      <td>71884</td>\n",
       "      <td>71884</td>\n",
       "      <td>71884</td>\n",
       "      <td>71884</td>\n",
       "      <td>71884</td>\n",
       "    </tr>\n",
       "    <tr>\n",
       "      <th>unique</th>\n",
       "      <td>14</td>\n",
       "      <td>26</td>\n",
       "      <td>365</td>\n",
       "      <td>32</td>\n",
       "      <td>11</td>\n",
       "      <td>25</td>\n",
       "      <td>21</td>\n",
       "      <td>68215</td>\n",
       "      <td>643</td>\n",
       "    </tr>\n",
       "    <tr>\n",
       "      <th>top</th>\n",
       "      <td>1FM</td>\n",
       "      <td>D</td>\n",
       "      <td>P0H</td>\n",
       "      <td>2</td>\n",
       "      <td>1</td>\n",
       "      <td>D</td>\n",
       "      <td>R</td>\n",
       "      <td>B55197</td>\n",
       "      <td>11000</td>\n",
       "    </tr>\n",
       "    <tr>\n",
       "      <th>freq</th>\n",
       "      <td>18347</td>\n",
       "      <td>12370</td>\n",
       "      <td>6171</td>\n",
       "      <td>7015</td>\n",
       "      <td>6622</td>\n",
       "      <td>17286</td>\n",
       "      <td>10535</td>\n",
       "      <td>4</td>\n",
       "      <td>574</td>\n",
       "    </tr>\n",
       "  </tbody>\n",
       "</table>\n",
       "</div>"
      ],
      "text/plain": [
       "          wmi restraint  model engine  check   year  plant     vis  price\n",
       "count   71884     71884  71884  71884  71884  71884  71884   71884  71884\n",
       "unique     14        26    365     32     11     25     21   68215    643\n",
       "top       1FM         D    P0H      2      1      D      R  B55197  11000\n",
       "freq    18347     12370   6171   7015   6622  17286  10535       4    574"
      ]
     },
     "metadata": {},
     "output_type": "display_data"
    }
   ],
   "source": [
    "check(data_ford)"
   ]
  },
  {
   "cell_type": "code",
   "execution_count": 11,
   "id": "87c874af",
   "metadata": {},
   "outputs": [],
   "source": [
    "data_ford['price'] = data_ford['price'].astype(int)"
   ]
  },
  {
   "cell_type": "code",
   "execution_count": 42,
   "id": "de3535b0",
   "metadata": {},
   "outputs": [
    {
     "data": {
      "image/png": "[encoded data removed]",
      "text/plain": [
       "<Figure size 700x700 with 1 Axes>"
      ]
     },
     "metadata": {},
     "output_type": "display_data"
    }
   ],
   "source": [
    "data_ford['price'].hist(figsize=(7,7))\n",
    "plt.xlabel('Цена автомобиля марки FORD')\n",
    "plt.title('Гистограмма цены автомобиля марки FORD')\n",
    "plt.show()"
   ]
  },
  {
   "cell_type": "markdown",
   "id": "037e42be",
   "metadata": {},
   "source": [
    "Подготовка данных к обучению"
   ]
  },
  {
   "cell_type": "code",
   "execution_count": 13,
   "id": "8ca09c71",
   "metadata": {},
   "outputs": [],
   "source": [
    "features = data_ford.drop(['check', 'vis', 'price'], axis=1).astype('category')\n",
    "target = data_ford['price']"
   ]
  },
  {
   "cell_type": "code",
   "execution_count": 15,
   "id": "975a84af",
   "metadata": {},
   "outputs": [
    {
     "name": "stdout",
     "output_type": "stream",
     "text": [
      "(71884, 6) (71884,)\n"
     ]
    }
   ],
   "source": [
    "print(features.shape, target.shape)"
   ]
  },
  {
   "cell_type": "markdown",
   "id": "2f5bfd48",
   "metadata": {},
   "source": [
    "Модель XGBRegressor"
   ]
  },
  {
   "cell_type": "code",
   "execution_count": 16,
   "id": "bdaefc77",
   "metadata": {},
   "outputs": [],
   "source": [
    "scoring = ['neg_root_mean_squared_error', 'neg_mean_absolute_percentage_error']"
   ]
  },
  {
   "cell_type": "code",
   "execution_count": 17,
   "id": "bf08ef1e",
   "metadata": {
    "scrolled": false
   },
   "outputs": [
    {
     "data": {
      "text/html": [
       "<style>#sk-container-id-1 {color: black;}#sk-container-id-1 pre{padding: 0;}#sk-container-id-1 div.sk-toggleable {background-color: white;}#sk-container-id-1 label.sk-toggleable__label {cursor: pointer;display: block;width: 100%;margin-bottom: 0;padding: 0.3em;box-sizing: border-box;text-align: center;}#sk-container-id-1 label.sk-toggleable__label-arrow:before {content: \"▸\";float: left;margin-right: 0.25em;color: #696969;}#sk-container-id-1 label.sk-toggleable__label-arrow:hover:before {color: black;}#sk-container-id-1 div.sk-estimator:hover label.sk-toggleable__label-arrow:before {color: black;}#sk-container-id-1 div.sk-toggleable__content {max-height: 0;max-width: 0;overflow: hidden;text-align: left;background-color: #f0f8ff;}#sk-container-id-1 div.sk-toggleable__content pre {margin: 0.2em;color: black;border-radius: 0.25em;background-color: #f0f8ff;}#sk-container-id-1 input.sk-toggleable__control:checked~div.sk-toggleable__content {max-height: 200px;max-width: 100%;overflow: auto;}#sk-container-id-1 input.sk-toggleable__control:checked~label.sk-toggleable__label-arrow:before {content: \"▾\";}#sk-container-id-1 div.sk-estimator input.sk-toggleable__control:checked~label.sk-toggleable__label {background-color: #d4ebff;}#sk-container-id-1 div.sk-label input.sk-toggleable__control:checked~label.sk-toggleable__label {background-color: #d4ebff;}#sk-container-id-1 input.sk-hidden--visually {border: 0;clip: rect(1px 1px 1px 1px);clip: rect(1px, 1px, 1px, 1px);height: 1px;margin: -1px;overflow: hidden;padding: 0;position: absolute;width: 1px;}#sk-container-id-1 div.sk-estimator {font-family: monospace;background-color: #f0f8ff;border: 1px dotted black;border-radius: 0.25em;box-sizing: border-box;margin-bottom: 0.5em;}#sk-container-id-1 div.sk-estimator:hover {background-color: #d4ebff;}#sk-container-id-1 div.sk-parallel-item::after {content: \"\";width: 100%;border-bottom: 1px solid gray;flex-grow: 1;}#sk-container-id-1 div.sk-label:hover label.sk-toggleable__label {background-color: #d4ebff;}#sk-container-id-1 div.sk-serial::before {content: \"\";position: absolute;border-left: 1px solid gray;box-sizing: border-box;top: 0;bottom: 0;left: 50%;z-index: 0;}#sk-container-id-1 div.sk-serial {display: flex;flex-direction: column;align-items: center;background-color: white;padding-right: 0.2em;padding-left: 0.2em;position: relative;}#sk-container-id-1 div.sk-item {position: relative;z-index: 1;}#sk-container-id-1 div.sk-parallel {display: flex;align-items: stretch;justify-content: center;background-color: white;position: relative;}#sk-container-id-1 div.sk-item::before, #sk-container-id-1 div.sk-parallel-item::before {content: \"\";position: absolute;border-left: 1px solid gray;box-sizing: border-box;top: 0;bottom: 0;left: 50%;z-index: -1;}#sk-container-id-1 div.sk-parallel-item {display: flex;flex-direction: column;z-index: 1;position: relative;background-color: white;}#sk-container-id-1 div.sk-parallel-item:first-child::after {align-self: flex-end;width: 50%;}#sk-container-id-1 div.sk-parallel-item:last-child::after {align-self: flex-start;width: 50%;}#sk-container-id-1 div.sk-parallel-item:only-child::after {width: 0;}#sk-container-id-1 div.sk-dashed-wrapped {border: 1px dashed gray;margin: 0 0.4em 0.5em 0.4em;box-sizing: border-box;padding-bottom: 0.4em;background-color: white;}#sk-container-id-1 div.sk-label label {font-family: monospace;font-weight: bold;display: inline-block;line-height: 1.2em;}#sk-container-id-1 div.sk-label-container {text-align: center;}#sk-container-id-1 div.sk-container {/* jupyter's `normalize.less` sets `[hidden] { display: none; }` but bootstrap.min.css set `[hidden] { display: none !important; }` so we also need the `!important` here to be able to override the default hidden behavior on the sphinx rendered scikit-learn.org. See: https://github.com/scikit-learn/scikit-learn/issues/21755 */display: inline-block !important;position: relative;}#sk-container-id-1 div.sk-text-repr-fallback {display: none;}</style><div id=\"sk-container-id-1\" class=\"sk-top-container\"><div class=\"sk-text-repr-fallback\"><pre>GridSearchCV(cv=2,\n",
       "             estimator=XGBRegressor(base_score=None, booster=None,\n",
       "                                    callbacks=None, colsample_bylevel=None,\n",
       "                                    colsample_bynode=None,\n",
       "                                    colsample_bytree=None, device=None,\n",
       "                                    early_stopping_rounds=None,\n",
       "                                    enable_categorical=True, eval_metric=None,\n",
       "                                    feature_types=None, gamma=None,\n",
       "                                    grow_policy=None, importance_type=None,\n",
       "                                    interaction_constraints=None,\n",
       "                                    learning_rate=None, ma...\n",
       "                                    monotone_constraints=None,\n",
       "                                    multi_strategy=None, n_estimators=None,\n",
       "                                    n_jobs=None, num_parallel_tree=None,\n",
       "                                    random_state=None, ...),\n",
       "             n_jobs=5,\n",
       "             param_grid=[{&#x27;max_depth&#x27;: [5, 6, 7], &#x27;n_estimators&#x27;: [100, 200],\n",
       "                          &#x27;random_state&#x27;: [12345]}],\n",
       "             refit=&#x27;neg_root_mean_squared_error&#x27;, return_train_score=True,\n",
       "             scoring=[&#x27;neg_root_mean_squared_error&#x27;,\n",
       "                      &#x27;neg_mean_absolute_percentage_error&#x27;])</pre><b>In a Jupyter environment, please rerun this cell to show the HTML representation or trust the notebook. <br />On GitHub, the HTML representation is unable to render, please try loading this page with nbviewer.org.</b></div><div class=\"sk-container\" hidden><div class=\"sk-item sk-dashed-wrapped\"><div class=\"sk-label-container\"><div class=\"sk-label sk-toggleable\"><input class=\"sk-toggleable__control sk-hidden--visually\" id=\"sk-estimator-id-1\" type=\"checkbox\" ><label for=\"sk-estimator-id-1\" class=\"sk-toggleable__label sk-toggleable__label-arrow\">GridSearchCV</label><div class=\"sk-toggleable__content\"><pre>GridSearchCV(cv=2,\n",
       "             estimator=XGBRegressor(base_score=None, booster=None,\n",
       "                                    callbacks=None, colsample_bylevel=None,\n",
       "                                    colsample_bynode=None,\n",
       "                                    colsample_bytree=None, device=None,\n",
       "                                    early_stopping_rounds=None,\n",
       "                                    enable_categorical=True, eval_metric=None,\n",
       "                                    feature_types=None, gamma=None,\n",
       "                                    grow_policy=None, importance_type=None,\n",
       "                                    interaction_constraints=None,\n",
       "                                    learning_rate=None, ma...\n",
       "                                    monotone_constraints=None,\n",
       "                                    multi_strategy=None, n_estimators=None,\n",
       "                                    n_jobs=None, num_parallel_tree=None,\n",
       "                                    random_state=None, ...),\n",
       "             n_jobs=5,\n",
       "             param_grid=[{&#x27;max_depth&#x27;: [5, 6, 7], &#x27;n_estimators&#x27;: [100, 200],\n",
       "                          &#x27;random_state&#x27;: [12345]}],\n",
       "             refit=&#x27;neg_root_mean_squared_error&#x27;, return_train_score=True,\n",
       "             scoring=[&#x27;neg_root_mean_squared_error&#x27;,\n",
       "                      &#x27;neg_mean_absolute_percentage_error&#x27;])</pre></div></div></div><div class=\"sk-parallel\"><div class=\"sk-parallel-item\"><div class=\"sk-item\"><div class=\"sk-label-container\"><div class=\"sk-label sk-toggleable\"><input class=\"sk-toggleable__control sk-hidden--visually\" id=\"sk-estimator-id-2\" type=\"checkbox\" ><label for=\"sk-estimator-id-2\" class=\"sk-toggleable__label sk-toggleable__label-arrow\">estimator: XGBRegressor</label><div class=\"sk-toggleable__content\"><pre>XGBRegressor(base_score=None, booster=None, callbacks=None,\n",
       "             colsample_bylevel=None, colsample_bynode=None,\n",
       "             colsample_bytree=None, device=None, early_stopping_rounds=None,\n",
       "             enable_categorical=True, eval_metric=None, feature_types=None,\n",
       "             gamma=None, grow_policy=None, importance_type=None,\n",
       "             interaction_constraints=None, learning_rate=None, max_bin=None,\n",
       "             max_cat_threshold=None, max_cat_to_onehot=None,\n",
       "             max_delta_step=None, max_depth=None, max_leaves=None,\n",
       "             min_child_weight=None, missing=nan, monotone_constraints=None,\n",
       "             multi_strategy=None, n_estimators=None, n_jobs=None,\n",
       "             num_parallel_tree=None, random_state=None, ...)</pre></div></div></div><div class=\"sk-serial\"><div class=\"sk-item\"><div class=\"sk-estimator sk-toggleable\"><input class=\"sk-toggleable__control sk-hidden--visually\" id=\"sk-estimator-id-3\" type=\"checkbox\" ><label for=\"sk-estimator-id-3\" class=\"sk-toggleable__label sk-toggleable__label-arrow\">XGBRegressor</label><div class=\"sk-toggleable__content\"><pre>XGBRegressor(base_score=None, booster=None, callbacks=None,\n",
       "             colsample_bylevel=None, colsample_bynode=None,\n",
       "             colsample_bytree=None, device=None, early_stopping_rounds=None,\n",
       "             enable_categorical=True, eval_metric=None, feature_types=None,\n",
       "             gamma=None, grow_policy=None, importance_type=None,\n",
       "             interaction_constraints=None, learning_rate=None, max_bin=None,\n",
       "             max_cat_threshold=None, max_cat_to_onehot=None,\n",
       "             max_delta_step=None, max_depth=None, max_leaves=None,\n",
       "             min_child_weight=None, missing=nan, monotone_constraints=None,\n",
       "             multi_strategy=None, n_estimators=None, n_jobs=None,\n",
       "             num_parallel_tree=None, random_state=None, ...)</pre></div></div></div></div></div></div></div></div></div></div>"
      ],
      "text/plain": [
       "GridSearchCV(cv=2,\n",
       "             estimator=XGBRegressor(base_score=None, booster=None,\n",
       "                                    callbacks=None, colsample_bylevel=None,\n",
       "                                    colsample_bynode=None,\n",
       "                                    colsample_bytree=None, device=None,\n",
       "                                    early_stopping_rounds=None,\n",
       "                                    enable_categorical=True, eval_metric=None,\n",
       "                                    feature_types=None, gamma=None,\n",
       "                                    grow_policy=None, importance_type=None,\n",
       "                                    interaction_constraints=None,\n",
       "                                    learning_rate=None, ma...\n",
       "                                    monotone_constraints=None,\n",
       "                                    multi_strategy=None, n_estimators=None,\n",
       "                                    n_jobs=None, num_parallel_tree=None,\n",
       "                                    random_state=None, ...),\n",
       "             n_jobs=5,\n",
       "             param_grid=[{'max_depth': [5, 6, 7], 'n_estimators': [100, 200],\n",
       "                          'random_state': [12345]}],\n",
       "             refit='neg_root_mean_squared_error', return_train_score=True,\n",
       "             scoring=['neg_root_mean_squared_error',\n",
       "                      'neg_mean_absolute_percentage_error'])"
      ]
     },
     "execution_count": 17,
     "metadata": {},
     "output_type": "execute_result"
    }
   ],
   "source": [
    "xgbr = XGBRegressor(enable_categorical=True) \n",
    "parameters = [{'n_estimators':[100, 200], 'random_state':[12345], 'max_depth':[5,6,7]}]\n",
    "\n",
    "gscv = GridSearchCV(xgbr, parameters, scoring=scoring,\n",
    "                    cv=2, n_jobs=5, refit='neg_root_mean_squared_error', return_train_score=True)\n",
    "gscv.fit(features, target)\n"
   ]
  },
  {
   "cell_type": "code",
   "execution_count": 18,
   "id": "38c1d6b9",
   "metadata": {},
   "outputs": [
    {
     "name": "stdout",
     "output_type": "stream",
     "text": [
      "Наилучшие параметры модели:\n",
      "{'max_depth': 5, 'n_estimators': 100, 'random_state': 12345}\n",
      "Наилучшее значение RMSE:\n",
      "2782.853224289276\n",
      "Наилучшее значение MAPE:\n",
      "-0.20129080162501706\n"
     ]
    }
   ],
   "source": [
    "print(\"Наилучшие параметры модели:\")\n",
    "print(gscv.best_params_)\n",
    "print(\"Наилучшее значение RMSE:\")\n",
    "print(-gscv.best_score_)\n",
    "print(\"Наилучшее значение MAPE:\")\n",
    "print(gscv.cv_results_['mean_test_neg_mean_absolute_percentage_error'][gscv.best_index_])\n"
   ]
  },
  {
   "cell_type": "code",
   "execution_count": null,
   "id": "f151fcf0",
   "metadata": {},
   "outputs": [],
   "source": []
  },
  {
   "cell_type": "code",
   "execution_count": 19,
   "id": "5d4d25ac",
   "metadata": {},
   "outputs": [
    {
     "name": "stdout",
     "output_type": "stream",
     "text": [
      "RMSE 7826.9843\n"
     ]
    }
   ],
   "source": [
    "cv = cross_validate(DummyRegressor(), features, target, scoring='neg_root_mean_squared_error')\n",
    "print('RMSE', -cv['test_score'].mean().round(4))"
   ]
  },
  {
   "cell_type": "code",
   "execution_count": 25,
   "id": "012fa7ba",
   "metadata": {},
   "outputs": [
    {
     "data": {
      "image/png": "[encoded data removed]",
      "text/plain": [
       "<Figure size 1800x900 with 1 Axes>"
      ]
     },
     "metadata": {},
     "output_type": "display_data"
    }
   ],
   "source": [
    "plot_data = {\n",
    "    'features': features.columns,\n",
    "    'feature_importances': xgbr.feature_importances_,\n",
    "}\n",
    "plot_data = pd.DataFrame(plot_data)\n",
    "plot_data.sort_values(by='feature_importances', ascending=False, inplace=True)\n",
    "plt.figure(figsize=(18, 9))\n",
    "sns.barplot(x=plot_data['feature_importances'], y=plot_data['features'])\n",
    "plt.title('Важность признаков для XGBRegressor', fontsize=14)\n",
    "plt.xlabel('Критерий важности')\n",
    "plt.ylabel('Названия признаков')\n",
    "plt.show()"
   ]
  },
  {
   "cell_type": "code",
   "execution_count": null,
   "id": "38ad62f9",
   "metadata": {},
   "outputs": [],
   "source": []
  }
 ],
 "metadata": {
  "kernelspec": {
   "display_name": "Python 3 (ipykernel)",
   "language": "python",
   "name": "python3"
  },
  "language_info": {
   "codemirror_mode": {
    "name": "ipython",
    "version": 3
   },
   "file_extension": ".py",
   "mimetype": "text/x-python",
   "name": "python",
   "nbconvert_exporter": "python",
   "pygments_lexer": "ipython3",
   "version": "3.11.5"
  }
 },
 "nbformat": 4,
 "nbformat_minor": 5
}
